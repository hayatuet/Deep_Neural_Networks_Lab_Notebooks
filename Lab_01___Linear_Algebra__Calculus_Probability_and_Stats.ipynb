{
 "cells": [
  {
   "cell_type": "markdown",
   "metadata": {},
   "source": [
    "# Deep Neural Networks (DNN) Lab - AI341L - Fall 2022"
   ]
  },
  {
   "cell_type": "markdown",
   "metadata": {},
   "source": [
    "# Lab 1:\n",
    "\n",
    "## Linear Algebra\n",
    "### Vectors:\n"
   ]
  },
  {
   "cell_type": "code",
   "execution_count": 1,
   "metadata": {},
   "outputs": [
    {
     "name": "stdout",
     "output_type": "stream",
     "text": [
      "Vector created from a list:\n",
      "[10 20 30 40 50]\n"
     ]
    }
   ],
   "source": [
    "# Horizontal Vector\n",
    "import numpy as np \n",
    "lst = [10,20,30,40,50] \n",
    "vctr = np.array(lst) \n",
    "vctr = np.array(lst) \n",
    "print(\"Vector created from a list:\") \n",
    "print(vctr) "
   ]
  },
  {
   "cell_type": "code",
   "execution_count": 2,
   "metadata": {},
   "outputs": [
    {
     "name": "stdout",
     "output_type": "stream",
     "text": [
      "Vector created from a list:\n",
      "[[ 2]\n",
      " [ 4]\n",
      " [ 6]\n",
      " [10]]\n"
     ]
    }
   ],
   "source": [
    "import numpy as np \n",
    "lst = [[2], [4], [6], [10]]  \n",
    "vctr = np.array(lst) \n",
    "vctr = np.array(lst) \n",
    "print(\"Vector created from a list:\") \n",
    "print(vctr) "
   ]
  },
  {
   "cell_type": "code",
   "execution_count": 3,
   "metadata": {},
   "outputs": [
    {
     "name": "stdout",
     "output_type": "stream",
     "text": [
      "Sum:  [12 30 36]\n",
      "Difference:  [ 8 10 24]\n",
      "Element-by-element Product:  [ 20 200 180]\n",
      "Cross Product: [-180    0   60]\n",
      "Dot Product:  400\n",
      "Element-by-element Division:  [5. 2. 5.]\n"
     ]
    }
   ],
   "source": [
    "# Vector Operations\n",
    "v1 = np.array([10, 20, 30])\n",
    "v2 = np.array([2, 10, 6])\n",
    "\n",
    "Vsum = v1 + v2             # sum of two vects\n",
    "Vdiff = v1 - v2            # Diff of two vects\n",
    "Vmul = v1*v2               # Element-wise Product \n",
    "Vcross = np.cross(v1, v2)  # Cross Product\n",
    "Vdot = np.dot(v1, v2)      # Dot Product\n",
    "Vdiv = v1/v2               # Element-wise Division\n",
    "\n",
    "print('Sum: ', Vsum)\n",
    "print('Difference: ', Vdiff)\n",
    "print('Element-by-element Product: ', Vmul)\n",
    "print('Cross Product:', Vcross)\n",
    "print('Dot Product: ', Vdot)\n",
    "print('Element-by-element Division: ', Vdiv)"
   ]
  },
  {
   "cell_type": "code",
   "execution_count": 4,
   "metadata": {},
   "outputs": [
    {
     "name": "stdout",
     "output_type": "stream",
     "text": [
      "L1 Norm of X:  20\n"
     ]
    }
   ],
   "source": [
    "# Evaluating L1 Norm\n",
    "X = np.array([1, 4, -10, 5])\n",
    "X_l1 = np.abs(X).sum()\n",
    "print('L1 Norm of X: ', X_l1)"
   ]
  },
  {
   "cell_type": "code",
   "execution_count": 5,
   "metadata": {},
   "outputs": [
    {
     "name": "stdout",
     "output_type": "stream",
     "text": [
      "L1 Norm of X:  12.24744871391589\n"
     ]
    }
   ],
   "source": [
    "# Evaluating L2 Norm\n",
    "X = np.array([3, 4, 5, -10])\n",
    "X_l2 = ((X**2).sum())**0.5 \n",
    "print('L1 Norm of X: ', X_l2)"
   ]
  },
  {
   "cell_type": "code",
   "execution_count": 6,
   "metadata": {},
   "outputs": [
    {
     "name": "stdout",
     "output_type": "stream",
     "text": [
      "L infinity Norm of X:  10.0\n"
     ]
    }
   ],
   "source": [
    "# Evaluating L Infinity Norm\n",
    "X = np.array([0.8, 1, 8, -10])\n",
    "X_inf = np.abs(X).max()\n",
    "print('L infinity Norm of X: ', X_inf)"
   ]
  },
  {
   "cell_type": "code",
   "execution_count": 7,
   "metadata": {},
   "outputs": [
    {
     "name": "stdout",
     "output_type": "stream",
     "text": [
      "Unit Vector in the direction of X:  [ 0.27937212  0.55874424 -0.6984303   0.34921515]\n"
     ]
    }
   ],
   "source": [
    "# Evaluating Unit Vector in the direction X\n",
    "X = np.array([4, 8, -10, 5])\n",
    "X_mag = ((X**2).sum())**0.5   # Magnitude (L2 Norm)\n",
    "X_unit = X/X_mag              # Evaluate Unit Vector\n",
    "print('Unit Vector in the direction of X: ', X_unit)"
   ]
  },
  {
   "cell_type": "code",
   "execution_count": 8,
   "metadata": {},
   "outputs": [
    {
     "name": "stdout",
     "output_type": "stream",
     "text": [
      "Vector befor Transpose: \n",
      "[[  4]\n",
      " [  5]\n",
      " [-20]\n",
      " [ 12]]\n",
      "Vector after Transpose: \n",
      "[[  4   5 -20  12]]\n"
     ]
    }
   ],
   "source": [
    "# Vector Transposition\n",
    "X = np.array([[4], [5], [-20], [12]])\n",
    "X_trans = X.T\n",
    "print('Vector befor Transpose: ')\n",
    "print(X)\n",
    "print('Vector after Transpose: ')\n",
    "print(X_trans)"
   ]
  },
  {
   "cell_type": "code",
   "execution_count": 9,
   "metadata": {},
   "outputs": [
    {
     "name": "stdout",
     "output_type": "stream",
     "text": [
      "[0.4 0.4 0.4 0.4]\n",
      "In this case all elements are the same.\n",
      "So, v1 and v2 are not linear independent.\n"
     ]
    }
   ],
   "source": [
    "# Checking Linear Dependence of two vectors\n",
    "v1 = np.array([1, 3, 6, 4])\n",
    "v2 = np.array([2.5, 7.5, 15, 10])\n",
    "print(v1/v2)\n",
    "print('In this case all elements are the same.')\n",
    "print('So, v1 and v2 are not linear independent.')"
   ]
  },
  {
   "cell_type": "code",
   "execution_count": 10,
   "metadata": {},
   "outputs": [],
   "source": [
    "# Orthogonal Vector Test for student\n",
    "# Orthonormal Vector Test for student"
   ]
  },
  {
   "cell_type": "markdown",
   "metadata": {},
   "source": [
    "### Matrices"
   ]
  },
  {
   "cell_type": "code",
   "execution_count": 12,
   "metadata": {},
   "outputs": [
    {
     "name": "stdout",
     "output_type": "stream",
     "text": [
      "Original matrix:\n",
      " [[45 34]\n",
      " [67 58]]\n",
      "No. of Dimension of Matrix 2\n"
     ]
    }
   ],
   "source": [
    "# Define a matrix in numpy\n",
    "import numpy as np\n",
    "M = np.array([[45,34],[67,58]])       # Define a matrix\n",
    "print(\"Original matrix:\\n\", M)        # Printing the matrix\n",
    "print(\"No. of Dimension of Matrix\", M.ndim) # Dimensions"
   ]
  },
  {
   "cell_type": "code",
   "execution_count": 20,
   "metadata": {},
   "outputs": [
    {
     "name": "stdout",
     "output_type": "stream",
     "text": [
      "Original Matrix: \n",
      " [[45 34 75]\n",
      " [67 58 89]]\n",
      "The shape of Matrix is  (2, 3)\n",
      "Matrix size is:  6\n"
     ]
    }
   ],
   "source": [
    "M = np.array([[45,34,75],[67,58,89]])\n",
    "print('Original Matrix: \\n', M)\n",
    "print(\"The shape of Matrix is \", M.shape)\n",
    "print(\"Matrix size is: \" , M.size)"
   ]
  },
  {
   "cell_type": "code",
   "execution_count": 14,
   "metadata": {},
   "outputs": [
    {
     "name": "stdout",
     "output_type": "stream",
     "text": [
      "First Matrix\n",
      "[[1 2]\n",
      " [4 6]]\n",
      "Second Matrix\n",
      "[[1 1]\n",
      " [2 3]]\n",
      "Sum of Matrices:\n",
      "[[2 3]\n",
      " [6 9]]\n",
      "Difference of Matrices:\n",
      "[[0 1]\n",
      " [2 3]]\n"
     ]
    }
   ],
   "source": [
    "# Addition/Subtraction\n",
    "M1 = np.array([[1,2], [4,6]])\n",
    "M2 = np.array([[1,1], [2,3]])\n",
    "print('First Matrix')\n",
    "print(M1)\n",
    "print('Second Matrix')\n",
    "print(M2)\n",
    "print('Sum of Matrices:')\n",
    "print(M1+M2)\n",
    "print('Difference of Matrices:')\n",
    "print(M1-M2)"
   ]
  },
  {
   "cell_type": "code",
   "execution_count": 15,
   "metadata": {},
   "outputs": [
    {
     "name": "stdout",
     "output_type": "stream",
     "text": [
      "Matrix Multiplication:\n",
      "[[ 5  7]\n",
      " [16 22]]\n"
     ]
    }
   ],
   "source": [
    "# Matrix Multiplication\n",
    "M1 = np.array([[1,2], [4,6]])\n",
    "M2 = np.array([[1,1], [2,3]])\n",
    "M_prod = np.dot(M1, M2)\n",
    "print('Matrix Multiplication:')\n",
    "print(M_prod)"
   ]
  },
  {
   "cell_type": "code",
   "execution_count": 22,
   "metadata": {},
   "outputs": [
    {
     "name": "stdout",
     "output_type": "stream",
     "text": [
      "Determinant of \n",
      "\n",
      " [[1 2]\n",
      " [4 6]] \n",
      "\n",
      " is  -2.0\n"
     ]
    }
   ],
   "source": [
    "# Determinant of a matrix\n",
    "M = np.array([[1,2], [4,6]])\n",
    "det = np.linalg.det(M)\n",
    "print('Determinant of \\n\\n', M, '\\n\\n is ', det)"
   ]
  },
  {
   "cell_type": "code",
   "execution_count": 24,
   "metadata": {},
   "outputs": [
    {
     "name": "stdout",
     "output_type": "stream",
     "text": [
      "3-by-3 Identity matrix:\n",
      " [[1. 0. 0.]\n",
      " [0. 1. 0.]\n",
      " [0. 0. 1.]]\n",
      "\n",
      "4-by-2 Null Matrix:\n",
      " [[0. 0.]\n",
      " [0. 0.]\n",
      " [0. 0.]\n",
      " [0. 0.]]\n",
      "\n",
      "3-by-5 Ones Matrix:\n",
      " [[1. 1. 1. 1. 1.]\n",
      " [1. 1. 1. 1. 1.]\n",
      " [1. 1. 1. 1. 1.]]\n"
     ]
    }
   ],
   "source": [
    "# Identity, Null and ones matrix\n",
    "print('3-by-3 Identity matrix:\\n', np.eye(3))\n",
    "print('\\n4-by-2 Null Matrix:\\n', np.zeros((4,2)))\n",
    "print('\\n3-by-5 Ones Matrix:\\n', np.ones((3,5)))"
   ]
  },
  {
   "cell_type": "code",
   "execution_count": 25,
   "metadata": {},
   "outputs": [
    {
     "name": "stdout",
     "output_type": "stream",
     "text": [
      "Original Matrix:\n",
      " [[1 2]\n",
      " [4 6]\n",
      " [8 9]]\n",
      "Transposed:\n",
      " [[1 4 8]\n",
      " [2 6 9]]\n"
     ]
    }
   ],
   "source": [
    "# Transpose of a matrix\n",
    "M = np.array([[1,2], [4,6], [8,9]])\n",
    "print('Original Matrix:\\n', M)\n",
    "print('Transposed:\\n', M.T)"
   ]
  },
  {
   "cell_type": "code",
   "execution_count": 53,
   "metadata": {
    "scrolled": true
   },
   "outputs": [
    {
     "name": "stdout",
     "output_type": "stream",
     "text": [
      "Original Matrix:\n",
      " [[ 1  0  3]\n",
      " [ 4  6  8]\n",
      " [ 8  9 10]]\n",
      "Inversed:\n",
      " [[ 0.25       -0.5625      0.375     ]\n",
      " [-0.5         0.29166667 -0.08333333]\n",
      " [ 0.25        0.1875     -0.125     ]]\n"
     ]
    }
   ],
   "source": [
    "# Inverse of a matrix\n",
    "M = np.array([[1,0,3], [4,6,8], [8,9,10]])\n",
    "print('Original Matrix:\\n', M)\n",
    "M_inv = np.linalg.inv(M)\n",
    "print('Inversed:\\n', M_inv)"
   ]
  },
  {
   "cell_type": "code",
   "execution_count": 39,
   "metadata": {},
   "outputs": [
    {
     "name": "stdout",
     "output_type": "stream",
     "text": [
      "E-value: [ 8.80916362  0.92620912 -0.73537273]\n",
      "E-vector [[-0.52799324 -0.77557092 -0.36272811]\n",
      " [-0.604391    0.62277013 -0.7103262 ]\n",
      " [-0.59660259 -0.10318482  0.60321224]]\n"
     ]
    }
   ],
   "source": [
    "a = np.array([[2, 2, 4], \n",
    "              [1, 3, 5],\n",
    "              [2, 3, 4]])\n",
    "w,v=np.linalg.eig(a)\n",
    "print('E-value:', w)\n",
    "print('E-vector', v)"
   ]
  },
  {
   "cell_type": "markdown",
   "metadata": {},
   "source": [
    "### Tensors"
   ]
  },
  {
   "cell_type": "code",
   "execution_count": 55,
   "metadata": {},
   "outputs": [
    {
     "name": "stdout",
     "output_type": "stream",
     "text": [
      "Addition:\n",
      " [[[ 2  4  6]\n",
      "  [ 8 10 12]\n",
      "  [14 16 18]]\n",
      "\n",
      " [[22 24 26]\n",
      "  [28 30 32]\n",
      "  [34 36 38]]\n",
      "\n",
      " [[42 44 46]\n",
      "  [48 50 52]\n",
      "  [54 56 58]]]\n",
      "Subtraction:\n",
      " [[[0 0 0]\n",
      "  [0 0 0]\n",
      "  [0 0 0]]\n",
      "\n",
      " [[0 0 0]\n",
      "  [0 0 0]\n",
      "  [0 0 0]]\n",
      "\n",
      " [[0 0 0]\n",
      "  [0 0 0]\n",
      "  [0 0 0]]]\n",
      "Multiplication:\n",
      " [[[  1   4   9]\n",
      "  [ 16  25  36]\n",
      "  [ 49  64  81]]\n",
      "\n",
      " [[121 144 169]\n",
      "  [196 225 256]\n",
      "  [289 324 361]]\n",
      "\n",
      " [[441 484 529]\n",
      "  [576 625 676]\n",
      "  [729 784 841]]]\n",
      "Division:\n",
      " [[[1. 1. 1.]\n",
      "  [1. 1. 1.]\n",
      "  [1. 1. 1.]]\n",
      "\n",
      " [[1. 1. 1.]\n",
      "  [1. 1. 1.]\n",
      "  [1. 1. 1.]]\n",
      "\n",
      " [[1. 1. 1.]\n",
      "  [1. 1. 1.]\n",
      "  [1. 1. 1.]]]\n"
     ]
    }
   ],
   "source": [
    "# tensor addition\n",
    "from numpy import array\n",
    "A = array([\n",
    "  [[1,2,3],    [4,5,6],    [7,8,9]],\n",
    "  [[11,12,13], [14,15,16], [17,18,19]],\n",
    "  [[21,22,23], [24,25,26], [27,28,29]],\n",
    "  ])\n",
    "B = array([\n",
    "  [[1,2,3],    [4,5,6],    [7,8,9]],\n",
    "  [[11,12,13], [14,15,16], [17,18,19]],\n",
    "  [[21,22,23], [24,25,26], [27,28,29]],\n",
    "  ])\n",
    "\n",
    "print('Addition:\\n', A+B)\n",
    "print('Subtraction:\\n', A-B)\n",
    "print('Multiplication:\\n',A*B)\n",
    "print('Division:\\n', A/B)"
   ]
  },
  {
   "cell_type": "code",
   "execution_count": 73,
   "metadata": {},
   "outputs": [
    {
     "name": "stdout",
     "output_type": "stream",
     "text": [
      "Eigen Values:\n",
      " [4. 1.]\n",
      "Eigen Vectors:\n",
      " [[ 0.70710678 -0.4472136 ]\n",
      " [ 0.70710678  0.89442719]]\n"
     ]
    }
   ],
   "source": [
    "# Eigen Value & Eigen Vectors\n",
    "A = np.array([[3, 1], [2, 2]])\n",
    "Eig_val, Eig_vect = np.linalg.eig(A)\n",
    "\n",
    "print('Eigen Values:\\n', Eig_val)\n",
    "print('Eigen Vectors:\\n', Eig_vect)"
   ]
  },
  {
   "cell_type": "markdown",
   "metadata": {},
   "source": [
    "## Calculus:\n",
    "### First Order Derivative:"
   ]
  },
  {
   "cell_type": "code",
   "execution_count": 88,
   "metadata": {},
   "outputs": [
    {
     "data": {
      "text/plain": [
       "4*x - 4"
      ]
     },
     "execution_count": 88,
     "metadata": {},
     "output_type": "execute_result"
    }
   ],
   "source": [
    "# Derivative\n",
    "import sympy as sp\n",
    "x = sp.symbols('x')\n",
    "f = 2*x**2 - 4*x\n",
    "f.diff(x)"
   ]
  },
  {
   "cell_type": "code",
   "execution_count": 89,
   "metadata": {},
   "outputs": [
    {
     "data": {
      "text/plain": [
       "5*x**4"
      ]
     },
     "execution_count": 89,
     "metadata": {},
     "output_type": "execute_result"
    }
   ],
   "source": [
    "# Power Rule\n",
    "import sympy as sp\n",
    "#Power rule\n",
    "x = sp.Symbol('x')\n",
    "f = x**5\n",
    "f.diff(x)"
   ]
  },
  {
   "cell_type": "code",
   "execution_count": 90,
   "metadata": {},
   "outputs": [
    {
     "data": {
      "text/plain": [
       "-exp(x)*sin(x) + exp(x)*cos(x)"
      ]
     },
     "execution_count": 90,
     "metadata": {},
     "output_type": "execute_result"
    }
   ],
   "source": [
    "# Product Rule\n",
    "x = sp.Symbol('x')\n",
    "f = sp.exp(x)*sp.cos(x)\n",
    "f.diff(x)"
   ]
  },
  {
   "cell_type": "code",
   "execution_count": 91,
   "metadata": {},
   "outputs": [
    {
     "data": {
      "text/plain": [
       "-2*x*sin(x**2)"
      ]
     },
     "execution_count": 91,
     "metadata": {},
     "output_type": "execute_result"
    }
   ],
   "source": [
    "# Chain Rule:\n",
    "x = sp.Symbol('x')\n",
    "f = sp.cos(x**2)\n",
    "f.diff(x)"
   ]
  },
  {
   "cell_type": "code",
   "execution_count": 92,
   "metadata": {},
   "outputs": [
    {
     "data": {
      "text/plain": [
       "sin(x)/cos(x)**2"
      ]
     },
     "execution_count": 92,
     "metadata": {},
     "output_type": "execute_result"
    }
   ],
   "source": [
    "# Quotient Rule\n",
    "x = sp.Symbol('x')\n",
    "u = 1\n",
    "v = sp.cos(x)\n",
    "(u/v).diff(x)"
   ]
  },
  {
   "cell_type": "code",
   "execution_count": 131,
   "metadata": {},
   "outputs": [
    {
     "name": "stdout",
     "output_type": "stream",
     "text": [
      "Original function: 2*x**2 + 3*x*y + y**3\n",
      "Partial derivative w.r.t. x: 4*x + 3*y\n",
      "Partial derivative w.r.t. y: 3*x + 3*y**2\n"
     ]
    }
   ],
   "source": [
    "# Partial Derivatives:\n",
    "x, y = sp.Symbol('x'), sp.Symbol('y')\n",
    "f = 2*x**2+y**3+3*x*y\n",
    "fx = f.diff(x)\n",
    "fy = f.diff(y)\n",
    "print(f'Original function: {f}')\n",
    "print(f'Partial derivative w.r.t. x: {fx}')\n",
    "print(f'Partial derivative w.r.t. y: {fy}')"
   ]
  },
  {
   "cell_type": "code",
   "execution_count": 133,
   "metadata": {},
   "outputs": [
    {
     "name": "stdout",
     "output_type": "stream",
     "text": [
      "Numerical Derivative at x=10 is 20.00000999942131\n"
     ]
    }
   ],
   "source": [
    "# Numerical Derivative:\n",
    "f = lambda x: x**2\n",
    "h = 1e-5  # step size = 0.00001\n",
    "df = lambda x: (f(x+h)-f(x))/h\n",
    "x = 10\n",
    "print(f'Numerical Derivative at x={x} is {df(x)}')"
   ]
  },
  {
   "cell_type": "markdown",
   "metadata": {},
   "source": [
    "# Statistics & Probability:\n",
    "## Statistics\n"
   ]
  },
  {
   "cell_type": "code",
   "execution_count": 113,
   "metadata": {},
   "outputs": [
    {
     "name": "stdout",
     "output_type": "stream",
     "text": [
      "mean=159.7, Median = 160.0, Mode = 160\n"
     ]
    }
   ],
   "source": [
    "# Mean median & mode of data\n",
    "# Import Library of statistics\n",
    "from scipy import stats\n",
    "x = np.array([155, 157, 160, 159, 162, \n",
    "              160, 161, 165, 160, 158])\n",
    "# Mean median & mode can be evaluated by\n",
    "#      numpy / stats functions like:\n",
    "print('mean={}, Median = {}, Mode = {}'.format(np.mean(x), \n",
    "                                                np.median(x), \n",
    "                                                stats.mode(x)[0][0]))"
   ]
  },
  {
   "cell_type": "code",
   "execution_count": 116,
   "metadata": {},
   "outputs": [
    {
     "name": "stdout",
     "output_type": "stream",
     "text": [
      "Variance=6.81, Standard Deviation=2.6095976701399777\n"
     ]
    }
   ],
   "source": [
    "x = np.array([155, 157, 160, 159, 162, \n",
    "              160, 161, 165, 160, 158])\n",
    "xvar = np.var(x)\n",
    "xstd = np.std(x)\n",
    "print(f'Variance={xvar}, Standard Deviation={xstd}')"
   ]
  },
  {
   "cell_type": "code",
   "execution_count": 119,
   "metadata": {},
   "outputs": [
    {
     "name": "stdout",
     "output_type": "stream",
     "text": [
      "Range = 33\n",
      "Inter Quartile Range (IQR) = 6.25\n"
     ]
    }
   ],
   "source": [
    "x = np.array([155, 157, 160, 159, 162, 153, 150, 154,\n",
    "              160, 161, 165, 160, 158, 145, 132, 160])\n",
    "rng = x.max() - x.min()\n",
    "print(f'Range = {rng}')\n",
    "\n",
    "q1 = np.percentile(x, 25)\n",
    "q3 = np.percentile(x, 75)\n",
    "iqr = q3 - q1\n",
    "\n",
    "print(f'Inter Quartile Range (IQR) = {iqr}')"
   ]
  },
  {
   "cell_type": "markdown",
   "metadata": {},
   "source": [
    "## Probability"
   ]
  },
  {
   "cell_type": "code",
   "execution_count": 150,
   "metadata": {},
   "outputs": [
    {
     "name": "stdout",
     "output_type": "stream",
     "text": [
      "Observed \tMean = 7.536967015264195, STD = 1.4527307593162864\n",
      "Theoritical \tMean = 7.5,\t\tSTD = 1.4433756729740645\n"
     ]
    },
    {
     "data": {
      "image/png": "[encoded data removed]",
      "text/plain": [
       "<Figure size 432x288 with 1 Axes>"
      ]
     },
     "metadata": {
      "needs_background": "light"
     },
     "output_type": "display_data"
    }
   ],
   "source": [
    "# Uniform Distribution:\n",
    "import seaborn as sns # seaborn for plotting\n",
    "a, b = 5, 10\n",
    "n = 1000\n",
    "x = np.random.uniform(low=a, high=b, size=n)\n",
    "sns.distplot(x, bins=25)\n",
    "print(f'Observed \\tMean = {x.mean()}, STD = {x.std()}')\n",
    "print(f'Theoritical \\tMean = {(a+b)/2},\\t\\tSTD = {np.sqrt(((b-a)**2)/12)}')"
   ]
  },
  {
   "cell_type": "code",
   "execution_count": 153,
   "metadata": {},
   "outputs": [
    {
     "name": "stdout",
     "output_type": "stream",
     "text": [
      "Observed \tMean = 5.003480201193338, STD = 0.48415813923713763\n",
      "Theoritical \tMean = 5,\t\tSTD = 0.5\n"
     ]
    },
    {
     "data": {
      "image/png": "[encoded data removed]",
      "text/plain": [
       "<Figure size 432x288 with 1 Axes>"
      ]
     },
     "metadata": {
      "needs_background": "light"
     },
     "output_type": "display_data"
    }
   ],
   "source": [
    "# Normal Distribution:\n",
    "import seaborn as sns # seaborn for plotting\n",
    "mu, sig = 5, 0.5\n",
    "n = 1000\n",
    "x = np.random.normal(loc=mu, scale=sig, size=n)\n",
    "sns.distplot(x, bins=25)\n",
    "print(f'Observed \\tMean = {x.mean()}, STD = {x.std()}')\n",
    "print(f'Theoritical \\tMean = {mu},\\t\\tSTD = {sig}')"
   ]
  },
  {
   "cell_type": "markdown",
   "metadata": {},
   "source": [
    "# Lab 2:\n",
    "### Data Generation"
   ]
  },
  {
   "cell_type": "code",
   "execution_count": 15,
   "metadata": {},
   "outputs": [],
   "source": [
    "# Creating a dummy dataset\n",
    "import numpy as np\n",
    "n = 100\n",
    "mu_hor1 = 1\n",
    "mu_ver1 = 2\n",
    "hor1 = np.random.uniform(size=n) + mu_hor1\n",
    "ver1 = np.random.uniform(size=n) + mu_ver1"
   ]
  },
  {
   "cell_type": "code",
   "execution_count": 16,
   "metadata": {},
   "outputs": [
    {
     "data": {
      "image/png": "[encoded data removed]",
      "text/plain": [
       "<Figure size 432x288 with 1 Axes>"
      ]
     },
     "metadata": {
      "needs_background": "light"
     },
     "output_type": "display_data"
    }
   ],
   "source": [
    "# Visualization\n",
    "import matplotlib.pyplot as plt\n",
    "plt.scatter(hor1, ver1)\n",
    "plt.show()"
   ]
  },
  {
   "cell_type": "code",
   "execution_count": 19,
   "metadata": {},
   "outputs": [
    {
     "data": {
      "image/png": "[encoded data removed]",
      "text/plain": [
       "<Figure size 432x288 with 1 Axes>"
      ]
     },
     "metadata": {
      "needs_background": "light"
     },
     "output_type": "display_data"
    }
   ],
   "source": [
    "# Creating a dummy dataset\n",
    "import numpy as np\n",
    "n = 100\n",
    "mu_hor2 = 2\n",
    "mu_ver2 = 3\n",
    "hor2 = np.random.uniform(size=n) + mu_hor2\n",
    "ver2 = np.random.uniform(size=n) + mu_ver2\n",
    "\n",
    "import matplotlib.pyplot as plt\n",
    "plt.scatter(hor1, ver1)\n",
    "plt.scatter(hor2, ver2)\n",
    "plt.show()"
   ]
  },
  {
   "cell_type": "code",
   "execution_count": 27,
   "metadata": {},
   "outputs": [],
   "source": [
    "# concatenating\n",
    "x1 = np.concatenate((hor1,hor2))\n",
    "x2 = np.concatenate((ver1,ver2))\n",
    "\n",
    "# Labels\n",
    "y = np.concatenate((np.zeros(shape=n), np.ones(shape=n)))"
   ]
  },
  {
   "cell_type": "code",
   "execution_count": 28,
   "metadata": {},
   "outputs": [
    {
     "data": {
      "text/plain": [
       "[<matplotlib.lines.Line2D at 0x1e95aef35c0>]"
      ]
     },
     "execution_count": 28,
     "metadata": {},
     "output_type": "execute_result"
    },
    {
     "data": {
      "image/png": "[encoded data removed]",
      "text/plain": [
       "<Figure size 432x288 with 1 Axes>"
      ]
     },
     "metadata": {
      "needs_background": "light"
     },
     "output_type": "display_data"
    }
   ],
   "source": [
    "plt.plot(y)"
   ]
  },
  {
   "cell_type": "code",
   "execution_count": 34,
   "metadata": {},
   "outputs": [
    {
     "data": {
      "text/plain": [
       "array([0., 0., 0., 0., 0., 0., 0., 0., 0., 0., 0., 0., 0., 0., 0., 0., 0.,\n",
       "       0., 0., 0., 0., 0., 0., 0., 0., 0., 0., 0., 0., 0., 0., 0., 0., 0.,\n",
       "       0., 0., 0., 0., 0., 0., 0., 0., 0., 0., 0., 0., 0., 0., 0., 0., 0.,\n",
       "       0., 0., 0., 0., 0., 0., 0., 0., 0., 0., 0., 0., 0., 0., 0., 0., 0.,\n",
       "       0., 0., 0., 0., 0., 0., 0., 0., 0., 0., 0., 0., 0., 0., 0., 0., 0.,\n",
       "       0., 0., 0., 0., 0., 0., 0., 0., 0., 0., 0., 0., 0., 0., 0., 1., 1.,\n",
       "       1., 1., 1., 1., 1., 1., 1., 1., 1., 1., 1., 1., 1., 1., 1., 1., 1.,\n",
       "       1., 1., 1., 1., 1., 1., 1., 1., 1., 1., 1., 1., 1., 1., 1., 1., 1.,\n",
       "       1., 1., 1., 1., 1., 1., 1., 1., 1., 1., 1., 1., 1., 1., 1., 1., 1.,\n",
       "       1., 1., 1., 1., 1., 1., 1., 1., 1., 1., 1., 1., 1., 1., 1., 1., 1.,\n",
       "       1., 1., 1., 1., 1., 1., 1., 1., 1., 1., 1., 1., 1., 1., 1., 1., 1.,\n",
       "       1., 1., 1., 1., 1., 1., 1., 1., 1., 1., 1., 1., 1.])"
      ]
     },
     "execution_count": 34,
     "metadata": {},
     "output_type": "execute_result"
    }
   ],
   "source": [
    "x1, x2 = x1.reshape((2*n,1)), x2.reshape((2*n,1))\n",
    "X = np.concatenate((x1, x2), axis=1)\n"
   ]
  },
  {
   "cell_type": "code",
   "execution_count": 30,
   "metadata": {},
   "outputs": [
    {
     "data": {
      "text/plain": [
       "array([1.23941805, 1.41561613, 1.12869289, 1.32384263, 1.92247023,\n",
       "       1.43348667, 1.47764423, 1.96804236, 1.48076841, 1.9679909 ,\n",
       "       1.49485191, 1.1986614 , 1.5979395 , 1.11101894, 1.50239568,\n",
       "       1.24515348, 1.39899274, 1.46430938, 1.78584276, 1.5786216 ,\n",
       "       1.25398834, 1.16739125, 1.34079406, 1.09977392, 1.73916895,\n",
       "       1.12643237, 1.5993634 , 1.30846392, 1.48141085, 1.14962285,\n",
       "       1.55133242, 1.08143319, 1.83908615, 1.09640491, 1.20045544,\n",
       "       1.24239465, 1.4558397 , 1.19699867, 1.39133627, 1.65322758,\n",
       "       1.1067875 , 1.10225953, 1.61916873, 1.05435052, 1.53024641,\n",
       "       1.06827524, 1.51401363, 1.93458199, 1.67811221, 1.57776599,\n",
       "       1.57364991, 1.39955425, 1.52859664, 1.30247431, 1.9385819 ,\n",
       "       1.32370903, 1.89202523, 1.54633361, 1.08820968, 1.79817894,\n",
       "       1.31132836, 1.73184701, 1.4239935 , 1.65784418, 1.01756626,\n",
       "       1.79455251, 1.07400306, 1.06904011, 1.54807148, 1.67296037,\n",
       "       1.38735874, 1.02605821, 1.78525913, 1.75959568, 1.19098713,\n",
       "       1.22290809, 1.85529066, 1.51056978, 1.04338817, 1.34182584,\n",
       "       1.76478659, 1.56798658, 1.87572193, 1.23441726, 1.02906137,\n",
       "       1.22497478, 1.62959734, 1.61515919, 1.38920756, 1.21978711,\n",
       "       1.63824821, 1.75683717, 1.36592485, 1.30571548, 1.95460022,\n",
       "       1.90083638, 1.86872357, 1.54887746, 1.21216737, 1.45466867,\n",
       "       2.66417226, 2.20208847, 2.07320317, 2.59755888, 2.23913035,\n",
       "       2.95635497, 2.38568493, 2.57590914, 2.84928082, 2.3605252 ,\n",
       "       2.88398762, 2.29133033, 2.31208644, 2.44195331, 2.11752626,\n",
       "       2.9724254 , 2.46850462, 2.64865832, 2.16509667, 2.59503226,\n",
       "       2.56530208, 2.20007334, 2.24172611, 2.75717827, 2.63519733,\n",
       "       2.38629037, 2.87390132, 2.80664637, 2.52806748, 2.60643415,\n",
       "       2.99747964, 2.92448245, 2.34208979, 2.38518505, 2.10368467,\n",
       "       2.84064604, 2.47806382, 2.33081293, 2.4100872 , 2.88007977,\n",
       "       2.80156946, 2.64425065, 2.30080149, 2.19693029, 2.6298121 ,\n",
       "       2.72187795, 2.22897171, 2.13614441, 2.11455813, 2.1229576 ,\n",
       "       2.76352707, 2.31351846, 2.9224985 , 2.01850915, 2.4903886 ,\n",
       "       2.75057957, 2.94218107, 2.09631069, 2.41034647, 2.2718312 ,\n",
       "       2.42020194, 2.72903544, 2.10580752, 2.96878564, 2.87831481,\n",
       "       2.13114769, 2.61738835, 2.40926992, 2.03610547, 2.07047137,\n",
       "       2.68988969, 2.597845  , 2.56514139, 2.30231254, 2.83221786,\n",
       "       2.49362535, 2.40331279, 2.73626863, 2.57251375, 2.975753  ,\n",
       "       2.89360977, 2.4791046 , 2.33501704, 2.94221812, 2.35085563,\n",
       "       2.45891971, 2.98727103, 2.87726336, 2.14017893, 2.04311027,\n",
       "       2.76972749, 2.62690164, 2.77039794, 2.93775655, 2.29485065,\n",
       "       2.85668454, 2.07246874, 2.39447016, 2.81726984, 2.64281551])"
      ]
     },
     "execution_count": 30,
     "metadata": {},
     "output_type": "execute_result"
    }
   ],
   "source": [
    "x1"
   ]
  },
  {
   "cell_type": "code",
   "execution_count": null,
   "metadata": {},
   "outputs": [],
   "source": []
  }
 ],
 "metadata": {
  "kernelspec": {
   "display_name": "Python 3",
   "language": "python",
   "name": "python3"
  },
  "language_info": {
   "codemirror_mode": {
    "name": "ipython",
    "version": 3
   },
   "file_extension": ".py",
   "mimetype": "text/x-python",
   "name": "python",
   "nbconvert_exporter": "python",
   "pygments_lexer": "ipython3",
   "version": "3.7.3"
  }
 },
 "nbformat": 4,
 "nbformat_minor": 2
}
